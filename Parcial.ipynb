{
 "cells": [
  {
   "cell_type": "code",
   "execution_count": 24,
   "id": "efd361b5-c0bb-4dc5-a8cc-5f2aace088ef",
   "metadata": {},
   "outputs": [
    {
     "name": "stdout",
     "output_type": "stream",
     "text": [
      "                                              Secuencia\n",
      "0     CCCAGAGTGCTCTGCGCCGTGAAGAAGCGGCTCCCGGGGACTGGGG...\n",
      "1     AGTAACAAGATGGCGTCGTCCGCGGAGTGACAGGGGTCCCTCTGGG...\n",
      "2     GCGGTATCGCCGCCCTAGCTCACCGCGCCCCTTTTCCAGCCCGCGA...\n",
      "3     GCGGCCGCCGAGAAACAAGTGGCCCAGCCTGGTAACCGCCGAGAAG...\n",
      "4     AAAAGAAACCTGACTGAGCGGCGGTGATCAGGTTCCCCTCTGCTGA...\n",
      "...                                                 ...\n",
      "1667  ATAGTGAAACCCTGTCTCTACTAAAAATACAAAAATTAGCCGGGTG...\n",
      "1668  GCTTTTCAAGAGGCTGAGGCAGAAGAATCGCTTGAACCCGGGAGAT...\n",
      "1669  TGCCACTGCACTCCAGCCTGGGCGTTGCAGTGAGACTCCGTCTCAA...\n",
      "1670  TCAAAAGGGCACAGGAGCCACTTGAAGGATTATACTTGCTAAATCT...\n",
      "1671                                      TAGCAACGTTA\\n\n",
      "\n",
      "[1672 rows x 1 columns]\n"
     ]
    }
   ],
   "source": [
    "import pandas as pd \n",
    "with open('gene.fna', 'r') as file:\n",
    "    lines = file.readlines()[1:]\n",
    "DF = pd.DataFrame({'Secuencia': lines})\n",
    "print(DF)"
   ]
  },
  {
   "cell_type": "code",
   "execution_count": 28,
   "id": "3104cb2c-e104-46cd-89f4-bc719360432c",
   "metadata": {},
   "outputs": [
    {
     "name": "stdout",
     "output_type": "stream",
     "text": [
      "Número de ocurrencias de 'CCG': 324\n",
      "Número de ocurrencias de 'GCC': 1345\n"
     ]
    }
   ],
   "source": [
    "import re\n",
    "\n",
    "def OC(patron, cadena):\n",
    "    return len(re.findall(patron, cadena))\n",
    "\n",
    "sec1 = r'CCG'\n",
    "sec2 = r'GCC'\n",
    "\n",
    "cont1 = 0\n",
    "cont2 = 0\n",
    "\n",
    "for secuencia in DF['Secuencia']:\n",
    "    cont1 += OC(sec1, secuencia)\n",
    "    cont2 += OC(sec2, secuencia)\n",
    "\n",
    "ocurre=cont1+cont2\n",
    "\n",
    "print(\"Número de ocurrencias de 'CCG':\", contador_ccg)\n",
    "print(\"Número de ocurrencias de 'GCC':\", contador_gcc)\n"
   ]
  },
  {
   "cell_type": "code",
   "execution_count": null,
   "id": "c8ec4847-b493-4f2c-b422-fdc9087249e0",
   "metadata": {},
   "outputs": [],
   "source": []
  }
 ],
 "metadata": {
  "kernelspec": {
   "display_name": "Python 3 (ipykernel)",
   "language": "python",
   "name": "python3"
  },
  "language_info": {
   "codemirror_mode": {
    "name": "ipython",
    "version": 3
   },
   "file_extension": ".py",
   "mimetype": "text/x-python",
   "name": "python",
   "nbconvert_exporter": "python",
   "pygments_lexer": "ipython3",
   "version": "3.11.7"
  }
 },
 "nbformat": 4,
 "nbformat_minor": 5
}
