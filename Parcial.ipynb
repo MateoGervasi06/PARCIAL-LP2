{
 "cells": [
  {
   "cell_type": "code",
   "execution_count": null,
   "id": "5acb54b7-8f14-41b9-9e25-b511ffcc32a7",
   "metadata": {},
   "outputs": [],
   "source": []
  },
  {
   "cell_type": "code",
   "execution_count": 2,
   "id": "efd361b5-c0bb-4dc5-a8cc-5f2aace088ef",
   "metadata": {},
   "outputs": [],
   "source": [
    "import pandas as pd\n",
    "\n",
    "\n",
    "with open('gene.fna', 'r') as file:\n",
    "    lines = file.readlines()[1:]\n",
    "\n",
    "secuencia = ''.join(line.strip() for line in lines)\n",
    "\n",
    "DF = pd.DataFrame({'Secuencia': [secuencia]})"
   ]
  },
  {
   "cell_type": "markdown",
   "id": "8a8733e4-04bb-4957-9d06-b94d92ee8be1",
   "metadata": {},
   "source": [
    "#### b) Tomando secuencias de tres nucleóticos de ventana determine el número de CCG o GCC que se encuentran en la secuencia."
   ]
  },
  {
   "cell_type": "code",
   "execution_count": 2,
   "id": "3104cb2c-e104-46cd-89f4-bc719360432c",
   "metadata": {},
   "outputs": [
    {
     "name": "stdout",
     "output_type": "stream",
     "text": [
      "Número de ocurrencias de 'CCG' o 'GCC': 1669\n"
     ]
    }
   ],
   "source": [
    "import re\n",
    "\n",
    "def OC(patron, cadena):\n",
    "    return len(re.findall(patron, cadena))\n",
    "\n",
    "sec1 = r'CCG'\n",
    "sec2 = r'GCC'\n",
    "\n",
    "cont1 = 0\n",
    "cont2 = 0\n",
    "\n",
    "for secuencia in DF['Secuencia']:\n",
    "    cont1 += OC(sec1, secuencia)\n",
    "    cont2 += OC(sec2, secuencia)\n",
    "\n",
    "ocurrencias=cont1+cont2\n",
    "\n",
    "print(\"Número de ocurrencias de 'CCG' o 'GCC':\", ocurrencias)\n"
   ]
  },
  {
   "cell_type": "markdown",
   "id": "8210bf81-f54e-4dde-8132-957cac720dd5",
   "metadata": {},
   "source": [
    "## c) Buscar y contar las secuencias: GAATTC"
   ]
  },
  {
   "cell_type": "code",
   "execution_count": 3,
   "id": "1ea71efd-6f1c-464d-a99c-69371280f53f",
   "metadata": {},
   "outputs": [
    {
     "name": "stdout",
     "output_type": "stream",
     "text": [
      "El número total de ocurrencias de 'GAATTC' es: 32\n"
     ]
    }
   ],
   "source": [
    "import re\n",
    "patron = r'GAATTC'\n",
    "contador = 0\n",
    "for secuencia in DF['Secuencia']:\n",
    "    ocurrencias = re.findall(patron, secuencia)\n",
    "    contador += len(ocurrencias)\n",
    "print(\"El número total de ocurrencias de 'GAATTC' es:\", contador)\n"
   ]
  },
  {
   "cell_type": "code",
   "execution_count": null,
   "id": "1fc6a64d-f3b9-4058-8526-a31a9d2bd86c",
   "metadata": {},
   "outputs": [],
   "source": []
  }
 ],
 "metadata": {
  "kernelspec": {
   "display_name": "Python 3 (ipykernel)",
   "language": "python",
   "name": "python3"
  },
  "language_info": {
   "codemirror_mode": {
    "name": "ipython",
    "version": 3
   },
   "file_extension": ".py",
   "mimetype": "text/x-python",
   "name": "python",
   "nbconvert_exporter": "python",
   "pygments_lexer": "ipython3",
   "version": "3.11.7"
  }
 },
 "nbformat": 4,
 "nbformat_minor": 5
}
