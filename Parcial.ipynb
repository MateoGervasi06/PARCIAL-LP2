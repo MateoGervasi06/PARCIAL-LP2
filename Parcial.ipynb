{
 "cells": [
  {
   "cell_type": "markdown",
   "id": "13c1710b-04ab-4dbc-a847-442cbb7d0a55",
   "metadata": {},
   "source": [
    "<div style=\"text-align: center;\">\n",
    "    <h1>EXAMEN PARCIAL</h1>\n",
    "</div>\n"
   ]
  },
  {
   "cell_type": "markdown",
   "id": "8ffa2861-a9d2-4ad3-9ccd-f40cd49c2775",
   "metadata": {},
   "source": [
    "#### LECTURA DE LA BASE DE DATOS Y GUARDADO EN DATAFRAME\n"
   ]
  },
  {
   "cell_type": "code",
   "execution_count": 8,
   "id": "efd361b5-c0bb-4dc5-a8cc-5f2aace088ef",
   "metadata": {},
   "outputs": [],
   "source": [
    "import pandas as pd\n",
    "\n",
    "\n",
    "with open('gene.fna', 'r') as file:\n",
    "    lines = file.readlines()[1:]\n",
    "\n",
    "secuencia = ''.join(line.strip() for line in lines)\n",
    "\n",
    "DF = pd.DataFrame({'Secuencia': [secuencia]})"
   ]
  },
  {
   "cell_type": "markdown",
   "id": "b4a89c17-0277-4214-84d8-209665f98ea8",
   "metadata": {},
   "source": [
    "## a) El porcentaje de nucleòtidos C o G en toda la secuencia.\n"
   ]
  },
  {
   "cell_type": "code",
   "execution_count": 8,
   "id": "308f372c-e3dc-4c99-825f-afc43c532323",
   "metadata": {},
   "outputs": [
    {
     "name": "stdout",
     "output_type": "stream",
     "text": [
      "El porcentaje de nucleótidos C en toda la secuencia es: 18.55%\n",
      "El porcentaje de nucleótidos G en toda la secuencia es: 20.71%\n",
      "El porcentaje de nucleótidos C o G en toda la secuencia es: 39.27%\n"
     ]
    }
   ],
   "source": [
    "# leyendo el archivo\n",
    "\n",
    "import re\n",
    "with open('gene.fna', 'r') as file:\n",
    "    lines = file.readlines()\n",
    "secuencia_adn = ''.join([line.strip() for line in lines if not line.startswith('>')])\n",
    "\n",
    "# Utilizando expresiones regulares para contar los nucleótidos\n",
    "\n",
    "nucleotidos_C = len(re.findall(r'C', secuencia_adn))\n",
    "nucleotidos_G = len(re.findall(r'G', secuencia_adn))\n",
    "\n",
    "# Mostrando el porcentaje de nucleótidos por separado\n",
    "\n",
    "print(\"El porcentaje de nucleótidos C en toda la secuencia es: {:.2f}%\".format((nucleotidos_C / len(secuencia_adn)) * 100))\n",
    "print(\"El porcentaje de nucleótidos G en toda la secuencia es: {:.2f}%\".format((nucleotidos_G / len(secuencia_adn)) * 100))\n",
    "\n",
    "# Mostrando el porcenaje de la suma de ambos nucleótidos\n",
    "\n",
    "print(\"El porcentaje de nucleótidos C o G en toda la secuencia es: {:.2f}%\".format(((nucleotidos_C + nucleotidos_G) / len(secuencia_adn)) * 100))\n"
   ]
  },
  {
   "cell_type": "markdown",
   "id": "8a8733e4-04bb-4957-9d06-b94d92ee8be1",
   "metadata": {},
   "source": [
    "## b) Tomando secuencias de tres nucleóticos de ventana determine el número de CCG o GCC que se encuentran en la secuencia."
   ]
  },
  {
   "cell_type": "code",
   "execution_count": 9,
   "id": "3104cb2c-e104-46cd-89f4-bc719360432c",
   "metadata": {},
   "outputs": [
    {
     "name": "stdout",
     "output_type": "stream",
     "text": [
      "Número de ocurrencias de 'CCG' o 'GCC': 1728\n"
     ]
    }
   ],
   "source": [
    "import re\n",
    "\n",
    "def OC(patron, cadena):\n",
    "    return len(re.findall(patron, cadena))\n",
    "\n",
    "sec1 = r'CCG'\n",
    "sec2 = r'GCC'\n",
    "\n",
    "cont1 = 0\n",
    "cont2 = 0\n",
    "\n",
    "for secuencia in DF['Secuencia']:\n",
    "    cont1 += OC(sec1, secuencia)\n",
    "    cont2 += OC(sec2, secuencia)\n",
    "\n",
    "ocurrencias=cont1+cont2\n",
    "\n",
    "print(\"Número de ocurrencias de 'CCG' o 'GCC':\", ocurrencias)\n"
   ]
  },
  {
   "cell_type": "markdown",
   "id": "8210bf81-f54e-4dde-8132-957cac720dd5",
   "metadata": {},
   "source": [
    "## c) Buscar y contar las secuencias: GAATTC"
   ]
  },
  {
   "cell_type": "code",
   "execution_count": 2,
   "id": "1ea71efd-6f1c-464d-a99c-69371280f53f",
   "metadata": {},
   "outputs": [
    {
     "name": "stdout",
     "output_type": "stream",
     "text": [
      "El número total de ocurrencias de 'GAATTC' es: 32\n"
     ]
    }
   ],
   "source": [
    "import re\n",
    "patron = r'GAATTC'\n",
    "contador = 0\n",
    "for secuencia in DF['Secuencia']:\n",
    "    ocurrencias = re.findall(patron, secuencia)\n",
    "    contador += len(ocurrencias)\n",
    "print(\"El número total de ocurrencias de 'GAATTC' es:\", contador)\n"
   ]
  },
  {
   "cell_type": "markdown",
   "id": "246580bd-3410-42ad-ac13-eb491b394ed8",
   "metadata": {},
   "source": [
    "## d)¿Es posible automatizar la descarga del archivo directamente desde Python?¿què librerìas y/o sentencias utilizarìa?. Escriba còdigo para dicha descarga"
   ]
  },
  {
   "cell_type": "markdown",
   "id": "aa7f994a-9629-4111-8201-1a036413ffa1",
   "metadata": {},
   "source": [
    "Requiere Biopython. Si no tienes Biopython instalado, primero necesitas instalarlo.\n",
    "\n",
    "codigo: **!pip install biopython**\n"
   ]
  },
  {
   "cell_type": "code",
   "execution_count": 6,
   "id": "76dce0e2-d72a-4a0a-81ad-2db4606ed426",
   "metadata": {},
   "outputs": [
    {
     "name": "stdout",
     "output_type": "stream",
     "text": [
      "Requirement already satisfied: biopython in /opt/anaconda3/lib/python3.11/site-packages (1.83)\n",
      "Requirement already satisfied: numpy in /opt/anaconda3/lib/python3.11/site-packages (from biopython) (1.26.4)\n",
      "Archivo descargado como gene.fna\n"
     ]
    }
   ],
   "source": [
    "!pip install biopython\n",
    "\n",
    "import requests\n",
    "from Bio import SeqIO\n",
    "\n",
    "url = \"https://www.ncbi.nlm.nih.gov/gene/1452#\"\n",
    "\n",
    "Archivo = \"gene.fna\"\n",
    "\n",
    "with requests.get(url, stream=True) as r:\n",
    "    r.raise_for_status()\n",
    "    with open(Archivo, 'wb') as f:\n",
    "        for chunk in r.iter_content(chunk_size=8192):\n",
    "            f.write(chunk)\n",
    "\n",
    "print(f\"Archivo descargado como {Archivo}\")\n",
    "\n",
    "for seq_record in SeqIO.parse(local_filename, \"fasta\"):\n",
    "    print(f\"ID: {seq_record.id}\")\n",
    "    print(f\"Descripción: {seq_record.description}\")\n",
    "    print(f\"Secuencia: {seq_record.seq}\\n\")\n"
   ]
  },
  {
   "cell_type": "code",
   "execution_count": null,
   "id": "0eb024e1-cc79-48d2-8b1e-ed1f3bb2928a",
   "metadata": {},
   "outputs": [],
   "source": []
  }
 ],
 "metadata": {
  "kernelspec": {
   "display_name": "Python 3 (ipykernel)",
   "language": "python",
   "name": "python3"
  },
  "language_info": {
   "codemirror_mode": {
    "name": "ipython",
    "version": 3
   },
   "file_extension": ".py",
   "mimetype": "text/x-python",
   "name": "python",
   "nbconvert_exporter": "python",
   "pygments_lexer": "ipython3",
   "version": "3.11.7"
  }
 },
 "nbformat": 4,
 "nbformat_minor": 5
}
