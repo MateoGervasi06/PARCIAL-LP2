{
 "cells": [
  {
   "cell_type": "markdown",
   "id": "13c1710b-04ab-4dbc-a847-442cbb7d0a55",
   "metadata": {},
   "source": [
    "<div style=\"text-align: center;\">\n",
    "    <h1>EXAMEN PARCIAL</h1>\n",
    "</div>\n"
   ]
  },
  {
   "cell_type": "markdown",
   "id": "8ffa2861-a9d2-4ad3-9ccd-f40cd49c2775",
   "metadata": {},
   "source": [
    "#### LECTURA DE LA BASE DE DATOS Y GUARDADO EN DATAFRAME\n"
   ]
  },
  {
   "cell_type": "code",
   "execution_count": 26,
   "id": "efd361b5-c0bb-4dc5-a8cc-5f2aace088ef",
   "metadata": {},
   "outputs": [],
   "source": [
    "import pandas as pd\n",
    "\n",
    "\n",
    "with open('gene.fna', 'r') as file:\n",
    "    lines = file.readlines()[1:]\n",
    "\n",
    "secuencia = ''.join(line.strip() for line in lines)\n",
    "\n",
    "DF = pd.DataFrame({'Secuencia': [secuencia]})"
   ]
  },
  {
   "cell_type": "markdown",
   "id": "b4a89c17-0277-4214-84d8-209665f98ea8",
   "metadata": {},
   "source": [
    "## a) El porcentaje de nucleòtidos C o G en toda la secuencia.\n"
   ]
  },
  {
   "cell_type": "code",
   "execution_count": 31,
   "id": "308f372c-e3dc-4c99-825f-afc43c532323",
   "metadata": {},
   "outputs": [
    {
     "name": "stdout",
     "output_type": "stream",
     "text": [
      "El porcentaje de nucleótidos C en toda la secuencia es: 18.55%\n",
      "El porcentaje de nucleótidos G en toda la secuencia es: 20.71%\n",
      "El porcentaje de nucleótidos C o G en toda la secuencia es: 39.27%\n"
     ]
    }
   ],
   "source": [
    "# leyendo el archivo\n",
    "\n",
    "import re\n",
    "with open('gene.fna', 'r') as file:\n",
    "    lines = file.readlines()\n",
    "sec_adn = ''.join([line.strip() for line in lines if not line.startswith('>')])\n",
    "\n",
    "# Utilizando expresiones regulares para contar los nucleótidos\n",
    "\n",
    "nuc_C = len(re.findall(r'C', sec_adn))\n",
    "nuc_G = len(re.findall(r'G', sec_adn))\n",
    "\n",
    "# Mostrando el porcentaje de nucleótidos por separado\n",
    "\n",
    "print(\"El porcentaje de nucleótidos C en toda la secuencia es: {:.2f}%\".format((nuc_C / len(sec_adn)) * 100))\n",
    "print(\"El porcentaje de nucleótidos G en toda la secuencia es: {:.2f}%\".format((nuc_G / len(sec_adn)) * 100))\n",
    "\n",
    "# Mostrando el porcenaje de la suma de ambos nucleótidos\n",
    "\n",
    "print(\"El porcentaje de nucleótidos C o G en toda la secuencia es: {:.2f}%\".format(((nuc_C + nuc_G) / len(sec_adn)) * 100))\n"
   ]
  },
  {
   "cell_type": "markdown",
   "id": "8a8733e4-04bb-4957-9d06-b94d92ee8be1",
   "metadata": {},
   "source": [
    "## b) Tomando secuencias de tres nucleóticos de ventana determine el número de CCG o GCC que se encuentran en la secuencia."
   ]
  },
  {
   "cell_type": "code",
   "execution_count": 28,
   "id": "3104cb2c-e104-46cd-89f4-bc719360432c",
   "metadata": {},
   "outputs": [
    {
     "name": "stdout",
     "output_type": "stream",
     "text": [
      "Número de ocurrencias de 'CCG' o 'GCC': 1728\n"
     ]
    }
   ],
   "source": [
    "import re\n",
    "\n",
    "def OC(patron, cadena):\n",
    "    return len(re.findall(patron, cadena))\n",
    "\n",
    "sec1 = r'CCG'\n",
    "sec2 = r'GCC'\n",
    "\n",
    "cont1 = 0\n",
    "cont2 = 0\n",
    "\n",
    "for secuencia in DF['Secuencia']:\n",
    "    cont1 += OC(sec1, secuencia)\n",
    "    cont2 += OC(sec2, secuencia)\n",
    "\n",
    "ocurrencias=cont1+cont2\n",
    "\n",
    "print(\"Número de ocurrencias de 'CCG' o 'GCC':\", ocurrencias)\n"
   ]
  },
  {
   "cell_type": "markdown",
   "id": "8210bf81-f54e-4dde-8132-957cac720dd5",
   "metadata": {},
   "source": [
    "## c) Buscar y contar las secuencias: GAATTC"
   ]
  },
  {
   "cell_type": "code",
   "execution_count": 29,
   "id": "1ea71efd-6f1c-464d-a99c-69371280f53f",
   "metadata": {},
   "outputs": [
    {
     "name": "stdout",
     "output_type": "stream",
     "text": [
      "El número total de ocurrencias de 'GAATTC' es: 32\n"
     ]
    }
   ],
   "source": [
    "import re\n",
    "patron = r'GAATTC'\n",
    "contador = 0\n",
    "for secuencia in DF['Secuencia']:\n",
    "    ocurrencias = re.findall(patron, secuencia)\n",
    "    contador += len(ocurrencias)\n",
    "print(\"El número total de ocurrencias de 'GAATTC' es:\", contador)\n"
   ]
  },
  {
   "cell_type": "markdown",
   "id": "246580bd-3410-42ad-ac13-eb491b394ed8",
   "metadata": {},
   "source": [
    "## d)¿Es posible automatizar la descarga del archivo directamente desde Python?¿què librerìas y/o sentencias utilizarìa?. Escriba còdigo para dicha descarga"
   ]
  },
  {
   "cell_type": "markdown",
   "id": "aa7f994a-9629-4111-8201-1a036413ffa1",
   "metadata": {},
   "source": [
    "Requiere Biopython. Si no tienes Biopython instalado, primero necesitas instalarlo.\n",
    "\n",
    "codigo: **!pip install biopython**\n",
    "\n",
    "El problema que estás enfrentando es probablemente debido a que la URL que estás utilizando no apunta directamente a un archivo de secuencia en formato FASTA. La URL \"https://www.ncbi.nlm.nih.gov/gene/1452#\" parece ser una página web HTML y no un archivo de secuencia descargable.\n",
    "\n",
    "Una posible solución para que descargue un archivo con extensión fasta es la siguiente \n"
   ]
  },
  {
   "cell_type": "code",
   "execution_count": 33,
   "id": "0a72b76b-5032-4624-8ce0-7d648954692a",
   "metadata": {},
   "outputs": [
    {
     "name": "stdout",
     "output_type": "stream",
     "text": [
      "¡Archivo 'secuenciaDescargada1.fasta' descargado exitosamente!\n",
      "¡Archivo 'secuenciaDescargada2.fasta' descargado exitosamente!\n",
      "¡Archivos 'secuenciaDescargada1.fasta' y 'secuenciaDescargada2.fasta' combinados en 'secuenciasCombinadas.fasta'!\n",
      "Archivos 'secuenciaDescargada1.fasta' y 'secuenciaDescargada2.fasta' eliminados.\n"
     ]
    }
   ],
   "source": [
    "\n",
    "import requests\n",
    "import os\n",
    "\n",
    "def descargar_fasta(nuccoreId, start, end, strand, Archivo):\n",
    "    \"\"\"\n",
    "    :param nuccoreId: ID de la secuencia en NCBI.\n",
    "    :param start: Posición inicial de la secuencia.\n",
    "    :param end: Posición final de la secuencia.\n",
    "    :param strand: Cadena de ADN (1 para directa, 2 para complementaria).\n",
    "    :param Archivo: Nombre del archivo donde se guardará la secuencia.\n",
    "    \"\"\"\n",
    "    try:\n",
    "        # Construir la URL para obtener la secuencia en formato FASTA\n",
    "        fastaUrl = f\"https://eutils.ncbi.nlm.nih.gov/entrez/eutils/efetch.fcgi?db=nucleotide&id={nuccoreId}&rettype=fasta&retmode=text&seq_start={start}&seq_stop={end}&strand={strand}\"\n",
    "        \n",
    "        # Realizar la solicitud GET para descargar el archivo FASTA\n",
    "        response = requests.get(fastaUrl)\n",
    "        \n",
    "        # Verificar si la solicitud fue exitosa (código de estado 200)\n",
    "        if response.status_code == 200:\n",
    "            # Guardar el contenido en un archivo FASTA\n",
    "            with open(Archivo, 'w') as archivo:\n",
    "                archivo.write(response.text)\n",
    "            print(f\"¡Archivo '{Archivo}' descargado exitosamente!\")\n",
    "        else:\n",
    "            print(f\"Error al descargar el archivo FASTA. Código de estado: {response.status_code}\")\n",
    "    except Exception as e:\n",
    "        print(f\"Error durante la descarga del archivo FASTA: {e}\")\n",
    "\n",
    "def comb_archiv(fasta1, fasta2, archivoCombinado):\n",
    "    \"\"\"\n",
    "    Combina dos archivos FASTA en uno solo y elimina los archivos originales.\n",
    "\n",
    "    :param fasta1: Nombre del primer archivo FASTA.\n",
    "    :param fasta2: Nombre del segundo archivo FASTA.\n",
    "    :param archivoCombinado: Nombre del archivo combinado.\n",
    "    \"\"\"\n",
    "    try:\n",
    "        # Leer el contenido del primer archivo FASTA\n",
    "        with open(fasta1, 'r') as archivo1:\n",
    "            contenidoFasta1 = archivo1.read()\n",
    "\n",
    "        # Leer el contenido del segundo archivo FASTA\n",
    "        with open(fasta2, 'r') as archivo2:\n",
    "            contenidoFasta2 = archivo2.read()\n",
    "\n",
    "        # Escribir ambos contenidos en el archivo combinado\n",
    "        with open(archivoCombinado, 'w') as archivo:\n",
    "            archivo.write(contenidoFasta1)\n",
    "            archivo.write('\\n')  # Agregar una línea en blanco entre las secuencias\n",
    "            archivo.write(contenidoFasta2)\n",
    "\n",
    "        print(f\"¡Archivos '{fasta1}' y '{fasta2}' combinados en '{archivoCombinado}'!\")\n",
    "\n",
    "        # Eliminar los archivos originales\n",
    "        os.remove(fasta1)\n",
    "        os.remove(fasta2)\n",
    "\n",
    "        print(f\"Archivos '{fasta1}' y '{fasta2}' eliminados.\")\n",
    "    except Exception as e:\n",
    "        print(f\"Error al combinar los archivos: {e}\")\n",
    "\n",
    "# Descargar la primera secuencia\n",
    "nuccoreId1 = \"NC_060929.1\"\n",
    "start1 = 150027795\n",
    "end1 = 150086185\n",
    "strand1 = 1  # 1 para directa, 2 para complementaria\n",
    "nombreArchivo1 = \"secuenciaDescargada1.fasta\"\n",
    "descargar_fasta(nuccoreId1, start1, end1, strand1, nombreArchivo1)\n",
    "\n",
    "# Descargar la segunda secuencia\n",
    "nuccoreId2 = \"NC_000005.10\"\n",
    "start2 = 149492982\n",
    "end2 = 149551439\n",
    "strand2 = 1  # 1 para directa, 2 para complementaria\n",
    "nombreArchivo2 = \"secuenciaDescargada2.fasta\"\n",
    "descargar_fasta(nuccoreId2, start2, end2, strand2, nombreArchivo2)\n",
    "\n",
    "# Archivos FASTA para combinar\n",
    "archivoFasta1 = \"secuenciaDescargada1.fasta\"\n",
    "archivoFasta2 = \"secuenciaDescargada2.fasta\"\n",
    "\n",
    "# Nombre del archivo combinado\n",
    "archivoCombinado = \"secuenciasCombinadas.fasta\"\n",
    "\n",
    "# Llamar a la función para combinar los archivos y eliminar los antiguos\n",
    "comb_archiv(archivoFasta1, archivoFasta2, archivoCombinado)"
   ]
  },
  {
   "cell_type": "code",
   "execution_count": null,
   "id": "6aad8488-3909-4d52-9a57-e6811de38841",
   "metadata": {},
   "outputs": [],
   "source": [
    "!pip install biopython\n",
    "\n",
    "from Bio import SeqIO\n",
    "\n",
    "file_path = \"secuenciasCombinadas.fasta\"\n",
    "\n",
    "with open(file_path, \"r\") as file:\n",
    "    for record in SeqIO.parse(file, \"fasta\"):\n",
    "        print(f\"ID: {record.id}\")\n",
    "        print(f\"Descripción: {record.description}\")\n",
    "        print(f\"Secuencia: {record.seq}\\n\")"
   ]
  }
 ],
 "metadata": {
  "kernelspec": {
   "display_name": "Python 3 (ipykernel)",
   "language": "python",
   "name": "python3"
  },
  "language_info": {
   "codemirror_mode": {
    "name": "ipython",
    "version": 3
   },
   "file_extension": ".py",
   "mimetype": "text/x-python",
   "name": "python",
   "nbconvert_exporter": "python",
   "pygments_lexer": "ipython3",
   "version": "3.11.7"
  }
 },
 "nbformat": 4,
 "nbformat_minor": 5
}
