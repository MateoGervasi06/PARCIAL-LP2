{
 "cells": [
  {
   "cell_type": "code",
   "execution_count": 25,
   "id": "5acb54b7-8f14-41b9-9e25-b511ffcc32a7",
   "metadata": {},
   "outputs": [
    {
     "name": "stdout",
     "output_type": "stream",
     "text": [
      "                                           Secuencia\n",
      "0  CCCAGAGTGCTCTGCGCCGTGAAGAAGCGGCTCCCGGGGACTGGGG...\n"
     ]
    }
   ],
   "source": [
    "import pandas as pd\n",
    "\n",
    "\n",
    "with open('gene.fna', 'r') as file:\n",
    "    lines = file.readlines()[1:]\n",
    "\n",
    "secuencia = ''.join(line.strip() for line in lines)\n",
    "\n",
    "DF = pd.DataFrame({'Secuencia': [secuencia]})\n",
    "print(DF)\n"
   ]
  },
  {
   "cell_type": "markdown",
   "id": "8a8733e4-04bb-4957-9d06-b94d92ee8be1",
   "metadata": {},
   "source": [
    "#### b) Tomando secuencias de tres nucleóticos de ventana determine el número de CCG o GCC que se encuentran en la secuencia."
   ]
  },
  {
   "cell_type": "code",
   "execution_count": 2,
   "id": "3104cb2c-e104-46cd-89f4-bc719360432c",
   "metadata": {},
   "outputs": [
    {
     "ename": "NameError",
     "evalue": "name 'DF' is not defined",
     "output_type": "error",
     "traceback": [
      "\u001b[1;31m---------------------------------------------------------------------------\u001b[0m",
      "\u001b[1;31mNameError\u001b[0m                                 Traceback (most recent call last)",
      "Cell \u001b[1;32mIn[2], line 12\u001b[0m\n\u001b[0;32m      9\u001b[0m cont1 \u001b[38;5;241m=\u001b[39m \u001b[38;5;241m0\u001b[39m\n\u001b[0;32m     10\u001b[0m cont2 \u001b[38;5;241m=\u001b[39m \u001b[38;5;241m0\u001b[39m\n\u001b[1;32m---> 12\u001b[0m \u001b[38;5;28;01mfor\u001b[39;00m secuencia \u001b[38;5;129;01min\u001b[39;00m DF[\u001b[38;5;124m'\u001b[39m\u001b[38;5;124mSecuencia\u001b[39m\u001b[38;5;124m'\u001b[39m]:\n\u001b[0;32m     13\u001b[0m     cont1 \u001b[38;5;241m+\u001b[39m\u001b[38;5;241m=\u001b[39m OC(sec1, secuencia)\n\u001b[0;32m     14\u001b[0m     cont2 \u001b[38;5;241m+\u001b[39m\u001b[38;5;241m=\u001b[39m OC(sec2, secuencia)\n",
      "\u001b[1;31mNameError\u001b[0m: name 'DF' is not defined"
     ]
    }
   ],
   "source": [
    "import re\n",
    "\n",
    "def OC(patron, cadena):\n",
    "    return len(re.findall(patron, cadena))\n",
    "\n",
    "sec1 = r'CCG'\n",
    "sec2 = r'GCC'\n",
    "\n",
    "cont1 = 0\n",
    "cont2 = 0\n",
    "\n",
    "for secuencia in DF['Secuencia']:\n",
    "    cont1 += OC(sec1, secuencia)\n",
    "    cont2 += OC(sec2, secuencia)\n",
    "\n",
    "ocurrencias=cont1+cont2\n",
    "\n",
    "print(\"Número de ocurrencias de 'CCG' o 'GCC':\", ocurrencias)\n"
   ]
  },
  {
   "cell_type": "markdown",
   "id": "24d0d722-8ecd-41c3-862b-1a8243d136d2",
   "metadata": {},
   "source": [
    "## c) Buscar y contar las secuencias: GAATTC"
   ]
  },
  {
   "cell_type": "code",
   "execution_count": 27,
   "id": "1fc6a64d-f3b9-4058-8526-a31a9d2bd86c",
   "metadata": {},
   "outputs": [
    {
     "name": "stdout",
     "output_type": "stream",
     "text": [
      "El número de ocurrencias de la secuencia 'GAATTC' es: 32\n"
     ]
    }
   ],
   "source": [
    "import re\n",
    "\n",
    "# Secuencia de ADN\n",
    "secuencia_adn = secuencia\n",
    "\n",
    "# Patrón de búsqueda\n",
    "patron = r'GAATTC'\n",
    "\n",
    "# Utilizar findall para encontrar todas las ocurrencias del patrón en la secuencia de ADN\n",
    "ocurrencias = re.findall(patron, secuencia_adn)\n",
    "\n",
    "# Contar las ocurrencias\n",
    "contador = len(ocurrencias)\n",
    "\n",
    "# Imprimir el resultado\n",
    "print(\"El número de ocurrencias de la secuencia 'GAATTC' es:\", contador)\n"
   ]
  },
  {
   "cell_type": "code",
   "execution_count": null,
   "id": "3eca2bbf-ef7d-463f-9e1e-d23128c6ef73",
   "metadata": {},
   "outputs": [],
   "source": []
  }
 ],
 "metadata": {
  "kernelspec": {
   "display_name": "Python 3 (ipykernel)",
   "language": "python",
   "name": "python3"
  },
  "language_info": {
   "codemirror_mode": {
    "name": "ipython",
    "version": 3
   },
   "file_extension": ".py",
   "mimetype": "text/x-python",
   "name": "python",
   "nbconvert_exporter": "python",
   "pygments_lexer": "ipython3",
   "version": "3.11.7"
  }
 },
 "nbformat": 4,
 "nbformat_minor": 5
}
