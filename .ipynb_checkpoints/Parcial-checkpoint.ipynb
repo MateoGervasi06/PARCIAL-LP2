{
 "cells": [
  {
   "cell_type": "code",
   "execution_count": 17,
   "id": "efd361b5-c0bb-4dc5-a8cc-5f2aace088ef",
   "metadata": {},
   "outputs": [
    {
     "name": "stdout",
     "output_type": "stream",
     "text": [
      "                                              Secuencia\n",
      "0     CCCAGAGTGCTCTGCGCCGTGAAGAAGCGGCTCCCGGGGACTGGGG...\n",
      "1     AGTAACAAGATGGCGTCGTCCGCGGAGTGACAGGGGTCCCTCTGGG...\n",
      "2     GCGGTATCGCCGCCCTAGCTCACCGCGCCCCTTTTCCAGCCCGCGA...\n",
      "3     GCGGCCGCCGAGAAACAAGTGGCCCAGCCTGGTAACCGCCGAGAAG...\n",
      "4     AAAAGAAACCTGACTGAGCGGCGGTGATCAGGTTCCCCTCTGCTGA...\n",
      "...                                                 ...\n",
      "1667  ATAGTGAAACCCTGTCTCTACTAAAAATACAAAAATTAGCCGGGTG...\n",
      "1668  GCTTTTCAAGAGGCTGAGGCAGAAGAATCGCTTGAACCCGGGAGAT...\n",
      "1669  TGCCACTGCACTCCAGCCTGGGCGTTGCAGTGAGACTCCGTCTCAA...\n",
      "1670  TCAAAAGGGCACAGGAGCCACTTGAAGGATTATACTTGCTAAATCT...\n",
      "1671                                      TAGCAACGTTA\\n\n",
      "\n",
      "[1672 rows x 1 columns]\n"
     ]
    }
   ],
   "source": [
    "import pandas as pd \n",
    "with open('gene.fna', 'r') as file:\n",
    "    lines = file.readlines()[1:]\n",
    "DF = pd.DataFrame({'Secuencia': lines})\n",
    "print(DF)"
   ]
  },
  {
   "cell_type": "code",
   "execution_count": 23,
   "id": "cd18d6c1-1dc2-40ba-bed1-8988a01fab64",
   "metadata": {},
   "outputs": [
    {
     "name": "stdout",
     "output_type": "stream",
     "text": [
      "Número de ocurrencias de CCG o GCC: 1566\n"
     ]
    }
   ],
   "source": [
    "patron = re.compile(r'CCG|GCC')\n",
    "\n",
    "consec = patron.findall(secuencia)\n",
    "\n",
    "num_consec = len(consec)\n",
    "\n",
    "print(f'Número de ocurrencias de CCG o GCC: {num_consec}')"
   ]
  },
  {
   "cell_type": "code",
   "execution_count": null,
   "id": "3104cb2c-e104-46cd-89f4-bc719360432c",
   "metadata": {},
   "outputs": [],
   "source": []
  }
 ],
 "metadata": {
  "kernelspec": {
   "display_name": "Python 3 (ipykernel)",
   "language": "python",
   "name": "python3"
  },
  "language_info": {
   "codemirror_mode": {
    "name": "ipython",
    "version": 3
   },
   "file_extension": ".py",
   "mimetype": "text/x-python",
   "name": "python",
   "nbconvert_exporter": "python",
   "pygments_lexer": "ipython3",
   "version": "3.11.7"
  }
 },
 "nbformat": 4,
 "nbformat_minor": 5
}
