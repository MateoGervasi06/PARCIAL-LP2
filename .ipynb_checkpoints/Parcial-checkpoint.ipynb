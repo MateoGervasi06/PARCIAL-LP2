{
 "cells": [
  {
   "cell_type": "code",
   "execution_count": null,
   "id": "5acb54b7-8f14-41b9-9e25-b511ffcc32a7",
   "metadata": {},
   "outputs": [],
   "source": []
  },
  {
   "cell_type": "markdown",
   "id": "8ffa2861-a9d2-4ad3-9ccd-f40cd49c2775",
   "metadata": {},
   "source": [
    "#### LECTURA DE LA BASE DE DATOS Y GUARDADO EN DATAFRAME\n"
   ]
  },
  {
   "cell_type": "code",
   "execution_count": 8,
   "id": "efd361b5-c0bb-4dc5-a8cc-5f2aace088ef",
   "metadata": {},
   "outputs": [
    {
     "name": "stdout",
     "output_type": "stream",
     "text": [
      "                                              Secuencia\n",
      "0     CCCAGAGTGCTCTGCGCCGTGAAGAAGCGGCTCCCGGGGACTGGGG...\n",
      "1     AGTAACAAGATGGCGTCGTCCGCGGAGTGACAGGGGTCCCTCTGGG...\n",
      "2     GCGGTATCGCCGCCCTAGCTCACCGCGCCCCTTTTCCAGCCCGCGA...\n",
      "3     GCGGCCGCCGAGAAACAAGTGGCCCAGCCTGGTAACCGCCGAGAAG...\n",
      "4     AAAAGAAACCTGACTGAGCGGCGGTGATCAGGTTCCCCTCTGCTGA...\n",
      "...                                                 ...\n",
      "1666  ATAGTGAAACCCTGTCTCTACTAAAAATACAAAAATTAGCCGGGTG...\n",
      "1667  GCTTTTCAAGAGGCTGAGGCAGAAGAATCGCTTGAACCCGGGAGAT...\n",
      "1668  TGCCACTGCACTCCAGCCTGGGCGTTGCAGTGAGACTCCGTCTCAA...\n",
      "1669  TCAAAAGGGCACAGGAGCCACTTGAAGGATTATACTTGCTAAATCT...\n",
      "1670                                        TAGCAACGTTA\n",
      "\n",
      "[1671 rows x 1 columns]\n"
     ]
    }
   ],
   "source": [
    "import pandas as pd \n",
    "with open('gene.fna', 'r') as file:\n",
    "    lines = file.readlines()\n",
    "secuencias = [line.strip() for line in lines if not line.startswith('>')]\n",
    "DF = pd.DataFrame({'Secuencia': secuencias})\n",
    "print(DF)"
   ]
  },
  {
   "cell_type": "markdown",
   "id": "b4a89c17-0277-4214-84d8-209665f98ea8",
   "metadata": {},
   "source": [
    "## a) El porcentaje de nucleòtidos C o G en toda la secuencia.\n"
   ]
  },
  {
   "cell_type": "code",
   "execution_count": 8,
   "id": "308f372c-e3dc-4c99-825f-afc43c532323",
   "metadata": {},
   "outputs": [
    {
     "name": "stdout",
     "output_type": "stream",
     "text": [
      "El porcentaje de nucleótidos C en toda la secuencia es: 18.55%\n",
      "El porcentaje de nucleótidos G en toda la secuencia es: 20.71%\n",
      "El porcentaje de nucleótidos C o G en toda la secuencia es: 39.27%\n"
     ]
    }
   ],
   "source": [
    "# leyendo el archivo\n",
    "\n",
    "import re\n",
    "with open('gene.fna', 'r') as file:\n",
    "    lines = file.readlines()\n",
    "secuencia_adn = ''.join([line.strip() for line in lines if not line.startswith('>')])\n",
    "\n",
    "# Utilizando expresiones regulares para contar los nucleótidos\n",
    "\n",
    "nucleotidos_C = len(re.findall(r'C', secuencia_adn))\n",
    "nucleotidos_G = len(re.findall(r'G', secuencia_adn))\n",
    "\n",
    "# Mostrando el porcentaje de nucleótidos por separado\n",
    "\n",
    "print(\"El porcentaje de nucleótidos C en toda la secuencia es: {:.2f}%\".format((nucleotidos_C / len(secuencia_adn)) * 100))\n",
    "print(\"El porcentaje de nucleótidos G en toda la secuencia es: {:.2f}%\".format((nucleotidos_G / len(secuencia_adn)) * 100))\n",
    "\n",
    "# Mostrando el porcenaje de la suma de ambos nucleótidos\n",
    "\n",
    "print(\"El porcentaje de nucleótidos C o G en toda la secuencia es: {:.2f}%\".format(((nucleotidos_C + nucleotidos_G) / len(secuencia_adn)) * 100))\n"
   ]
  },
  {
   "cell_type": "markdown",
   "id": "8a8733e4-04bb-4957-9d06-b94d92ee8be1",
   "metadata": {},
   "source": [
    "#### b) Tomando secuencias de tres nucleóticos de ventana determine el número de CCG o GCC que se encuentran en la secuencia."
   ]
  },
  {
   "cell_type": "code",
   "execution_count": 9,
   "id": "3104cb2c-e104-46cd-89f4-bc719360432c",
   "metadata": {},
   "outputs": [
    {
     "name": "stdout",
     "output_type": "stream",
     "text": [
      "Número de ocurrencias de 'CCG' o 'GCC': 1669\n"
     ]
    }
   ],
   "source": [
    "import re\n",
    "\n",
    "def OC(patron, cadena):\n",
    "    return len(re.findall(patron, cadena))\n",
    "\n",
    "sec1 = r'CCG'\n",
    "sec2 = r'GCC'\n",
    "\n",
    "cont1 = 0\n",
    "cont2 = 0\n",
    "\n",
    "for secuencia in DF['Secuencia']:\n",
    "    cont1 += OC(sec1, secuencia)\n",
    "    cont2 += OC(sec2, secuencia)\n",
    "\n",
    "ocurrencias=cont1+cont2\n",
    "\n",
    "print(\"Número de ocurrencias de 'CCG' o 'GCC':\", ocurrencias)\n"
   ]
  },
  {
   "cell_type": "markdown",
   "id": "8210bf81-f54e-4dde-8132-957cac720dd5",
   "metadata": {},
   "source": [
    "## c) Buscar y contar las secuencias: GAATTC"
   ]
  },
  {
   "cell_type": "code",
   "execution_count": 2,
   "id": "1ea71efd-6f1c-464d-a99c-69371280f53f",
   "metadata": {},
   "outputs": [
    {
     "name": "stdout",
     "output_type": "stream",
     "text": [
      "El número total de ocurrencias de 'GAATTC' es: 30\n"
     ]
    }
   ],
   "source": [
    "import re\n",
    "patron = r'GAATTC'\n",
    "contador = 0\n",
    "for secuencia in DF['Secuencia']:\n",
    "    ocurrencias = re.findall(patron, secuencia)\n",
    "    contador += len(ocurrencias)\n",
    "print(\"El número total de ocurrencias de 'GAATTC' es:\", contador)\n"
   ]
  },
  {
   "cell_type": "code",
   "execution_count": null,
   "id": "1fc6a64d-f3b9-4058-8526-a31a9d2bd86c",
   "metadata": {},
   "outputs": [],
   "source": []
  }
 ],
 "metadata": {
  "kernelspec": {
   "display_name": "Python 3 (ipykernel)",
   "language": "python",
   "name": "python3"
  },
  "language_info": {
   "codemirror_mode": {
    "name": "ipython",
    "version": 3
   },
   "file_extension": ".py",
   "mimetype": "text/x-python",
   "name": "python",
   "nbconvert_exporter": "python",
   "pygments_lexer": "ipython3",
   "version": "3.11.7"
  }
 },
 "nbformat": 4,
 "nbformat_minor": 5
}
